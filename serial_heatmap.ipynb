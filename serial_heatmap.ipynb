{
 "cells": [
  {
   "cell_type": "code",
   "execution_count": 1,
   "metadata": {
    "ExecuteTime": {
     "end_time": "2020-05-06T13:27:13.832488Z",
     "start_time": "2020-05-06T13:27:05.044908Z"
    }
   },
   "outputs": [],
   "source": [
    "import bs4\n",
    "import requests\n",
    "import numpy as np\n",
    "import matplotlib.pyplot as plt\n",
    "from matplotlib.colors import LinearSegmentedColormap\n",
    "import seaborn as sns\n",
    "from PIL import Image\n",
    "import requests\n",
    "from io import BytesIO"
   ]
  },
  {
   "cell_type": "code",
   "execution_count": 2,
   "metadata": {
    "ExecuteTime": {
     "end_time": "2020-05-06T13:27:13.840052Z",
     "start_time": "2020-05-06T13:27:13.834333Z"
    }
   },
   "outputs": [],
   "source": [
    "new_cmap1 = LinearSegmentedColormap.from_list(\"\", [\"#BE0B00\", \"#FFFD1A\", \"#00B24E\"])\n",
    "new_cmap2 = LinearSegmentedColormap.from_list(\"\", [\"#6F309E\", \"#FA0100\", \"#FBB5A4\",\n",
    "                                                   \"#FFFE07\", \"#E2EEDE\", \"#8FCF55\"])"
   ]
  },
  {
   "cell_type": "code",
   "execution_count": 3,
   "metadata": {
    "ExecuteTime": {
     "end_time": "2020-05-06T13:27:13.958438Z",
     "start_time": "2020-05-06T13:27:13.842720Z"
    }
   },
   "outputs": [],
   "source": [
    "def get_data(url):\n",
    "    try:\n",
    "        data = requests.get(url)\n",
    "        data.raise_for_status() #raise error if occured\n",
    "        return data\n",
    "    except:\n",
    "        return False  "
   ]
  },
  {
   "cell_type": "code",
   "execution_count": 58,
   "metadata": {
    "ExecuteTime": {
     "end_time": "2020-05-06T13:56:36.803916Z",
     "start_time": "2020-05-06T13:56:36.798690Z"
    }
   },
   "outputs": [],
   "source": [
    "def get_seasons_href(soup):\n",
    "    seasons_info = soup.find(id=\"title-episode-widget\")\n",
    "    if seasons_info:\n",
    "        seasons = seasons_info.select(\".seasons-and-year-nav > div:nth-child(4)\")[0].find_all(\"a\")\n",
    "        return [[\"https://www.imdb.com\" + season[\"href\"] for season in seasons], \n",
    "                [season.text for season in seasons]]\n",
    "    else:\n",
    "        print(\"Error. Probably not a series\")\n",
    "        return False"
   ]
  },
  {
   "cell_type": "code",
   "execution_count": null,
   "metadata": {},
   "outputs": [],
   "source": [
    "def get_years_href(soup):\n",
    "    seasons_info = soup.find(id=\"title-episode-widget\")\n",
    "    if seasons_info:\n",
    "        seasons = seasons_info.select(\".seasons-and-year-nav > div:nth-child(4)\")[0].find_all(\"a\")\n",
    "        return [[\"https://www.imdb.com\" + season[\"href\"] for season in seasons], \n",
    "                [season.text for season in seasons]]\n",
    "    else:\n",
    "        print(\"Error. Probably not a series\")\n",
    "        return False"
   ]
  },
  {
   "cell_type": "code",
   "execution_count": 5,
   "metadata": {
    "ExecuteTime": {
     "end_time": "2020-05-06T13:27:14.315193Z",
     "start_time": "2020-05-06T13:27:14.108569Z"
    }
   },
   "outputs": [],
   "source": [
    "def get_rating_matrix(seasons_href):\n",
    "    rating_matrix = []\n",
    "    for season_href in seasons_href:\n",
    "        try:\n",
    "            season_html = requests.get(season_href)\n",
    "            season_html.raise_for_status() #raise error if occured\n",
    "            rating_info = bs4.BeautifulSoup(season_html.text, \"html.parser\")\n",
    "            ratings = rating_info.find_all(\"div\", class_=\"ipl-rating-star small\")\n",
    "            rating_matrix.append([rating.find(\"span\", class_=\"ipl-rating-star__rating\").text \n",
    "                                 for rating in ratings]) \n",
    "        except:\n",
    "            return False\n",
    "    max_length = max(map(len, rating_matrix))\n",
    "    return np.array([rating_i + [None]*(max_length - len(rating_i)) \n",
    "                     for rating_i in rating_matrix]).astype(float)"
   ]
  },
  {
   "cell_type": "code",
   "execution_count": 220,
   "metadata": {
    "ExecuteTime": {
     "end_time": "2020-05-06T17:11:58.078803Z",
     "start_time": "2020-05-06T17:11:58.058353Z"
    }
   },
   "outputs": [],
   "source": [
    "def get_heatmap(rating_matrix, x_labels, info, color_map):\n",
    "    title = \"\\n\".join([info[\"original_title\"], info[\"date_country\"], \n",
    "                       \"\\n\".join(info[\"genres\"].split(\", \"))])\n",
    "    if rating_matrix.shape[0] == 1 and rating_matrix.shape[1] > 40:\n",
    "        y_len = int(np.ceil(rating_matrix.shape[1]/10))\n",
    "        x_len = 10\n",
    "        rating_matrix = np.resize(rating_matrix, [y_len, x_len])\n",
    "        rating_matrix[rating_matrix == 0] = 'nan'\n",
    "        \n",
    "        figsize = (10, min(10, y_len))\n",
    "        fig = plt.figure(facecolor='#888A85', figsize=figsize)\n",
    "        ax = sns.heatmap(rating_matrix, annot=True, \n",
    "                cmap = color_map, xticklabels=range(1, 11), \n",
    "                yticklabels=[str(i) + '_' for i in range(y_len)])\n",
    "        ax.set_xlabel(\"One season, all episodes\", fontsize=14) \n",
    "                         \n",
    "    else:\n",
    "        rating_matrix = rating_matrix.T\n",
    "        n_episodes, n_seasons = rating_matrix.shape\n",
    "        \n",
    "        figsize = (max(3, n_seasons*1.5), \n",
    "                   max(4, n_episodes/1.5))\n",
    "        fig = plt.figure(facecolor='#888A85', figsize=figsize)\n",
    "        ax = sns.heatmap(rating_matrix, annot=True, \n",
    "                cmap = color_map, xticklabels=x_labels, \n",
    "                yticklabels=range(1, n_episodes+1))\n",
    "        ax.set_xlabel('Season', fontsize=14)\n",
    "        ax.set_ylabel('Episode', fontsize=14) \n",
    "    \n",
    "    ax.set_title(title, fontsize=16)\n",
    "    ax.xaxis.tick_top()\n",
    "    ax.xaxis.set_label_position('top') \n",
    "    ax.tick_params(axis='both', rotation=0)\n",
    "    plt.tight_layout()\n",
    "    \n",
    "    return fig"
   ]
  },
  {
   "cell_type": "code",
   "execution_count": 216,
   "metadata": {
    "ExecuteTime": {
     "end_time": "2020-05-06T17:11:03.387321Z",
     "start_time": "2020-05-06T17:11:03.372521Z"
    }
   },
   "outputs": [],
   "source": [
    "def get_serial_info(soup):\n",
    "    info_html = soup.find(\"div\", class_=\"title_bar_wrapper\")\n",
    "    title = (info_html.h1.text).strip()\n",
    "    original_title = info_html.find(\"div\", class_=\"originalTitle\").text\n",
    "    original_title = \" \".join(original_title.split()[:-2])\n",
    "    *genres, date_country = [tag.text.strip() for tag in info_html.select(\".subtext > a\")]\n",
    "    rating_attr = info_html.strong[\"title\"].split()\n",
    "    rating, n_votes = float(rating_attr[0]), int(rating_attr[3].replace(',', ''))\n",
    "    movie_info = {\"title\": title, \"original_title\": original_title, \n",
    "                  \"genres\": \", \".join(genres), \"date_country\": date_country, \n",
    "                  \"rating_attr\": rating_attr, \"rating\": rating, \"n_votes\": n_votes}\n",
    "    \n",
    "    return movie_info\n",
    "\n",
    "def get_poster(soup):\n",
    "    poster_html = requests.get(soup.find(\"div\", class_=\"poster\").img[\"src\"])\n",
    "    return Image.open(BytesIO(poster_html.content))"
   ]
  },
  {
   "cell_type": "code",
   "execution_count": 217,
   "metadata": {
    "ExecuteTime": {
     "end_time": "2020-05-06T17:11:03.758554Z",
     "start_time": "2020-05-06T17:11:03.749635Z"
    }
   },
   "outputs": [],
   "source": [
    "def show_all(fig, poster):\n",
    "    buf = BytesIO()\n",
    "    fig.savefig(buf, format='png')\n",
    "    buf.seek(0)\n",
    "    heatmap = Image.open(buf)\n",
    "    total_width = heatmap.size[0] + poster.size[0]\n",
    "    max_height = max(heatmap.size[1], poster.size[1])\n",
    "    \n",
    "    full_image = Image.new('RGB', (total_width, max_height), color=\"#888A85\")\n",
    "    x_offset = 0\n",
    "    full_image.paste(poster, (x_offset,0))\n",
    "    x_offset += poster.size[0]\n",
    "    full_image.paste(heatmap, (x_offset,0))\n",
    "\n",
    "    return full_image\n",
    "    #buf.close()"
   ]
  },
  {
   "cell_type": "code",
   "execution_count": 226,
   "metadata": {
    "ExecuteTime": {
     "end_time": "2020-05-06T17:21:18.932860Z",
     "start_time": "2020-05-06T17:21:18.921365Z"
    }
   },
   "outputs": [],
   "source": [
    "def serial_heatmap(url, save=False, colors=3):\n",
    "    res = get_data(url)\n",
    "    soup = bs4.BeautifulSoup(res.text, \"html.parser\")\n",
    "    movie_info = get_serial_info(soup)\n",
    "    poster = get_poster(soup)\n",
    "    parts_href, parts_name = get_seasons_href(soup)   \n",
    "    if parts_href == False: exit()\n",
    "    rating_matrix = get_rating_matrix(parts_href[::-1])\n",
    "    if colors == 3: cmap = new_cmap1\n",
    "    else: cmap = new_cmap2\n",
    "    fig = get_heatmap(rating_matrix, parts_name[::-1], movie_info, cmap);\n",
    "    full_image = show_all(fig, poster)\n",
    "    if save: full_image.save('./' + movie_info[\"original_title\"] + '.jpg', 'JPEG')\n",
    "    full_image.show()"
   ]
  },
  {
   "cell_type": "code",
   "execution_count": 228,
   "metadata": {
    "ExecuteTime": {
     "end_time": "2020-05-06T17:22:45.138688Z",
     "start_time": "2020-05-06T17:22:42.278754Z"
    }
   },
   "outputs": [
    {
     "data": {
      "image/png": "[encoded data removed]",
      "text/plain": [
       "<Figure size 216x288 with 2 Axes>"
      ]
     },
     "metadata": {},
     "output_type": "display_data"
    }
   ],
   "source": [
    "love_d_r = \"https://www.imdb.com/title/tt9561862/?ref_=nv_sr_srsg_0\"\n",
    "url_test2 = \"https://www.imdb.com/title/tt0149460/?ref_=nv_sr_srsg_0\"\n",
    "url_test3 = \"https://www.imdb.com/title/tt0460681/?ref_=nv_sr_srsg_0\"\n",
    "chernobyl = \"https://www.imdb.com/title/tt7366338/?ref_=nv_sr_srsg_3\"\n",
    "url_test4 = \"https://www.imdb.com/title/tt6517102/\"\n",
    "fullmetal_al = \"https://www.imdb.com/title/tt1355642/\"\n",
    "sherlock = \"https://www.imdb.com/title/tt1475582/?pf_rd_m=A2FGELUUNOQJNL&pf_rd_p=12230b0e-0e00-43ed-9e59-8d5353703cce&pf_rd_r=ACAPHPSYCB50VECP8G5N&pf_rd_s=center-1&pf_rd_t=15506&pf_rd_i=toptv&ref_=chttvtp_tt_18\"\n",
    "firefly = \"https://www.imdb.com/title/tt0303461/?pf_rd_m=A2FGELUUNOQJNL&pf_rd_p=12230b0e-0e00-43ed-9e59-8d5353703cce&pf_rd_r=ACAPHPSYCB50VECP8G5N&pf_rd_s=center-1&pf_rd_t=15506&pf_rd_i=toptv&ref_=chttvtp_tt_27\"\n",
    "serial_heatmap(chernobyl, colors = 5)"
   ]
  },
  {
   "cell_type": "code",
   "execution_count": null,
   "metadata": {
    "ExecuteTime": {
     "end_time": "2020-05-06T16:23:11.648088Z",
     "start_time": "2020-05-06T16:23:11.643882Z"
    }
   },
   "outputs": [],
   "source": []
  }
 ],
 "metadata": {
  "kernelspec": {
   "display_name": "Python 3",
   "language": "python",
   "name": "python3"
  },
  "language_info": {
   "codemirror_mode": {
    "name": "ipython",
    "version": 3
   },
   "file_extension": ".py",
   "mimetype": "text/x-python",
   "name": "python",
   "nbconvert_exporter": "python",
   "pygments_lexer": "ipython3",
   "version": "3.7.4"
  },
  "toc": {
   "base_numbering": 1,
   "nav_menu": {},
   "number_sections": true,
   "sideBar": true,
   "skip_h1_title": false,
   "title_cell": "Table of Contents",
   "title_sidebar": "Contents",
   "toc_cell": false,
   "toc_position": {},
   "toc_section_display": true,
   "toc_window_display": false
  },
  "varInspector": {
   "cols": {
    "lenName": 16,
    "lenType": 16,
    "lenVar": 40
   },
   "kernels_config": {
    "python": {
     "delete_cmd_postfix": "",
     "delete_cmd_prefix": "del ",
     "library": "var_list.py",
     "varRefreshCmd": "print(var_dic_list())"
    },
    "r": {
     "delete_cmd_postfix": ") ",
     "delete_cmd_prefix": "rm(",
     "library": "var_list.r",
     "varRefreshCmd": "cat(var_dic_list()) "
    }
   },
   "types_to_exclude": [
    "module",
    "function",
    "builtin_function_or_method",
    "instance",
    "_Feature"
   ],
   "window_display": false
  }
 },
 "nbformat": 4,
 "nbformat_minor": 2
}
